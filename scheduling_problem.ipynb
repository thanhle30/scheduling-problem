{
 "cells": [
  {
   "cell_type": "markdown",
   "id": "9e1647f3",
   "metadata": {},
   "source": [
    "- Đơn giản hóa bài toán: tìm cách tối ưu cho 31 ngày; hết 1 vòng thì lặp lại theo đúng thứ tự cũ\n",
    "\n",
    "- Cần tìm **thuật toán** để: thay đổi cách sắp xếp 1 cách hợp lý theo từng bước -> tăng giá trị fitness function"
   ]
  },
  {
   "cell_type": "code",
   "execution_count": 1,
   "id": "98ec863b",
   "metadata": {},
   "outputs": [],
   "source": [
    "import numpy as np\n",
    "import random"
   ]
  },
  {
   "cell_type": "code",
   "execution_count": 2,
   "id": "4e7ea195",
   "metadata": {},
   "outputs": [],
   "source": [
    "# A = [1] * 3 + [2] * 6 + [3] * 6 + [4] * 4\n",
    "# B = [1] * 2 + [2] * 4 + [3] * 4 + [4] * 7\n",
    "# C = [1] * 7 + [2] * 7 + [3] * 8 + [4] * 0\n",
    "# D = [1] * 2 + [2] * 4 + [3] * 5 + [4] * 11\n",
    "A = [1, 1, 1, 2, 2, 2, 2, 2, 2, 3, 3, 3, 3, 3, 3, 4, 4, 4, 4]\n",
    "B = [1, 1, 2, 2, 2, 2, 3, 3, 3, 3, 4, 4, 4, 4, 4, 4, 4]\n",
    "C = [1, 1, 1, 1, 1, 1, 1, 2, 2, 2, 2, 2, 2, 2, 3, 3, 3, 3, 3, 3, 3, 3]\n",
    "D = [1, 1, 2, 2, 2, 2, 3, 3, 3, 3, 3, 4, 4, 4, 4, 4, 4, 4, 4, 4, 4, 4]\n",
    "A_s = (A * 2)[:31]\n",
    "B_s = (B * 2)[:31]\n",
    "C_s = (C * 2)[:31]\n",
    "D_s = (D * 2)[:31]\n",
    "\n",
    "select_ex = {\n",
    "    'BS1': A_s,\n",
    "    'BS2': B_s,\n",
    "    'DD1': C_s,\n",
    "    'DD2': D_s\n",
    "}"
   ]
  },
  {
   "cell_type": "code",
   "execution_count": 3,
   "id": "49ba1512",
   "metadata": {},
   "outputs": [],
   "source": [
    "import pandas as pd"
   ]
  },
  {
   "cell_type": "code",
   "execution_count": 4,
   "id": "1898a815",
   "metadata": {},
   "outputs": [
    {
     "data": {
      "text/html": [
       "<div>\n",
       "<style scoped>\n",
       "    .dataframe tbody tr th:only-of-type {\n",
       "        vertical-align: middle;\n",
       "    }\n",
       "\n",
       "    .dataframe tbody tr th {\n",
       "        vertical-align: top;\n",
       "    }\n",
       "\n",
       "    .dataframe thead th {\n",
       "        text-align: right;\n",
       "    }\n",
       "</style>\n",
       "<table border=\"1\" class=\"dataframe\">\n",
       "  <thead>\n",
       "    <tr style=\"text-align: right;\">\n",
       "      <th></th>\n",
       "      <th>BS1</th>\n",
       "      <th>BS2</th>\n",
       "      <th>DD1</th>\n",
       "      <th>DD2</th>\n",
       "    </tr>\n",
       "  </thead>\n",
       "  <tbody>\n",
       "    <tr>\n",
       "      <th>0</th>\n",
       "      <td>1</td>\n",
       "      <td>1</td>\n",
       "      <td>1</td>\n",
       "      <td>1</td>\n",
       "    </tr>\n",
       "    <tr>\n",
       "      <th>1</th>\n",
       "      <td>1</td>\n",
       "      <td>1</td>\n",
       "      <td>1</td>\n",
       "      <td>1</td>\n",
       "    </tr>\n",
       "    <tr>\n",
       "      <th>2</th>\n",
       "      <td>1</td>\n",
       "      <td>2</td>\n",
       "      <td>1</td>\n",
       "      <td>2</td>\n",
       "    </tr>\n",
       "    <tr>\n",
       "      <th>3</th>\n",
       "      <td>2</td>\n",
       "      <td>2</td>\n",
       "      <td>1</td>\n",
       "      <td>2</td>\n",
       "    </tr>\n",
       "    <tr>\n",
       "      <th>4</th>\n",
       "      <td>2</td>\n",
       "      <td>2</td>\n",
       "      <td>1</td>\n",
       "      <td>2</td>\n",
       "    </tr>\n",
       "    <tr>\n",
       "      <th>5</th>\n",
       "      <td>2</td>\n",
       "      <td>2</td>\n",
       "      <td>1</td>\n",
       "      <td>2</td>\n",
       "    </tr>\n",
       "    <tr>\n",
       "      <th>6</th>\n",
       "      <td>2</td>\n",
       "      <td>3</td>\n",
       "      <td>1</td>\n",
       "      <td>3</td>\n",
       "    </tr>\n",
       "    <tr>\n",
       "      <th>7</th>\n",
       "      <td>2</td>\n",
       "      <td>3</td>\n",
       "      <td>2</td>\n",
       "      <td>3</td>\n",
       "    </tr>\n",
       "    <tr>\n",
       "      <th>8</th>\n",
       "      <td>2</td>\n",
       "      <td>3</td>\n",
       "      <td>2</td>\n",
       "      <td>3</td>\n",
       "    </tr>\n",
       "    <tr>\n",
       "      <th>9</th>\n",
       "      <td>3</td>\n",
       "      <td>3</td>\n",
       "      <td>2</td>\n",
       "      <td>3</td>\n",
       "    </tr>\n",
       "    <tr>\n",
       "      <th>10</th>\n",
       "      <td>3</td>\n",
       "      <td>4</td>\n",
       "      <td>2</td>\n",
       "      <td>3</td>\n",
       "    </tr>\n",
       "    <tr>\n",
       "      <th>11</th>\n",
       "      <td>3</td>\n",
       "      <td>4</td>\n",
       "      <td>2</td>\n",
       "      <td>4</td>\n",
       "    </tr>\n",
       "    <tr>\n",
       "      <th>12</th>\n",
       "      <td>3</td>\n",
       "      <td>4</td>\n",
       "      <td>2</td>\n",
       "      <td>4</td>\n",
       "    </tr>\n",
       "    <tr>\n",
       "      <th>13</th>\n",
       "      <td>3</td>\n",
       "      <td>4</td>\n",
       "      <td>2</td>\n",
       "      <td>4</td>\n",
       "    </tr>\n",
       "    <tr>\n",
       "      <th>14</th>\n",
       "      <td>3</td>\n",
       "      <td>4</td>\n",
       "      <td>3</td>\n",
       "      <td>4</td>\n",
       "    </tr>\n",
       "    <tr>\n",
       "      <th>15</th>\n",
       "      <td>4</td>\n",
       "      <td>4</td>\n",
       "      <td>3</td>\n",
       "      <td>4</td>\n",
       "    </tr>\n",
       "    <tr>\n",
       "      <th>16</th>\n",
       "      <td>4</td>\n",
       "      <td>4</td>\n",
       "      <td>3</td>\n",
       "      <td>4</td>\n",
       "    </tr>\n",
       "    <tr>\n",
       "      <th>17</th>\n",
       "      <td>4</td>\n",
       "      <td>1</td>\n",
       "      <td>3</td>\n",
       "      <td>4</td>\n",
       "    </tr>\n",
       "    <tr>\n",
       "      <th>18</th>\n",
       "      <td>4</td>\n",
       "      <td>1</td>\n",
       "      <td>3</td>\n",
       "      <td>4</td>\n",
       "    </tr>\n",
       "    <tr>\n",
       "      <th>19</th>\n",
       "      <td>1</td>\n",
       "      <td>2</td>\n",
       "      <td>3</td>\n",
       "      <td>4</td>\n",
       "    </tr>\n",
       "    <tr>\n",
       "      <th>20</th>\n",
       "      <td>1</td>\n",
       "      <td>2</td>\n",
       "      <td>3</td>\n",
       "      <td>4</td>\n",
       "    </tr>\n",
       "    <tr>\n",
       "      <th>21</th>\n",
       "      <td>1</td>\n",
       "      <td>2</td>\n",
       "      <td>3</td>\n",
       "      <td>4</td>\n",
       "    </tr>\n",
       "    <tr>\n",
       "      <th>22</th>\n",
       "      <td>2</td>\n",
       "      <td>2</td>\n",
       "      <td>1</td>\n",
       "      <td>1</td>\n",
       "    </tr>\n",
       "    <tr>\n",
       "      <th>23</th>\n",
       "      <td>2</td>\n",
       "      <td>3</td>\n",
       "      <td>1</td>\n",
       "      <td>1</td>\n",
       "    </tr>\n",
       "    <tr>\n",
       "      <th>24</th>\n",
       "      <td>2</td>\n",
       "      <td>3</td>\n",
       "      <td>1</td>\n",
       "      <td>2</td>\n",
       "    </tr>\n",
       "    <tr>\n",
       "      <th>25</th>\n",
       "      <td>2</td>\n",
       "      <td>3</td>\n",
       "      <td>1</td>\n",
       "      <td>2</td>\n",
       "    </tr>\n",
       "    <tr>\n",
       "      <th>26</th>\n",
       "      <td>2</td>\n",
       "      <td>3</td>\n",
       "      <td>1</td>\n",
       "      <td>2</td>\n",
       "    </tr>\n",
       "    <tr>\n",
       "      <th>27</th>\n",
       "      <td>2</td>\n",
       "      <td>4</td>\n",
       "      <td>1</td>\n",
       "      <td>2</td>\n",
       "    </tr>\n",
       "    <tr>\n",
       "      <th>28</th>\n",
       "      <td>3</td>\n",
       "      <td>4</td>\n",
       "      <td>1</td>\n",
       "      <td>3</td>\n",
       "    </tr>\n",
       "    <tr>\n",
       "      <th>29</th>\n",
       "      <td>3</td>\n",
       "      <td>4</td>\n",
       "      <td>2</td>\n",
       "      <td>3</td>\n",
       "    </tr>\n",
       "    <tr>\n",
       "      <th>30</th>\n",
       "      <td>3</td>\n",
       "      <td>4</td>\n",
       "      <td>2</td>\n",
       "      <td>3</td>\n",
       "    </tr>\n",
       "  </tbody>\n",
       "</table>\n",
       "</div>"
      ],
      "text/plain": [
       "    BS1  BS2  DD1  DD2\n",
       "0     1    1    1    1\n",
       "1     1    1    1    1\n",
       "2     1    2    1    2\n",
       "3     2    2    1    2\n",
       "4     2    2    1    2\n",
       "5     2    2    1    2\n",
       "6     2    3    1    3\n",
       "7     2    3    2    3\n",
       "8     2    3    2    3\n",
       "9     3    3    2    3\n",
       "10    3    4    2    3\n",
       "11    3    4    2    4\n",
       "12    3    4    2    4\n",
       "13    3    4    2    4\n",
       "14    3    4    3    4\n",
       "15    4    4    3    4\n",
       "16    4    4    3    4\n",
       "17    4    1    3    4\n",
       "18    4    1    3    4\n",
       "19    1    2    3    4\n",
       "20    1    2    3    4\n",
       "21    1    2    3    4\n",
       "22    2    2    1    1\n",
       "23    2    3    1    1\n",
       "24    2    3    1    2\n",
       "25    2    3    1    2\n",
       "26    2    3    1    2\n",
       "27    2    4    1    2\n",
       "28    3    4    1    3\n",
       "29    3    4    2    3\n",
       "30    3    4    2    3"
      ]
     },
     "execution_count": 4,
     "metadata": {},
     "output_type": "execute_result"
    }
   ],
   "source": [
    "dfex = pd.DataFrame({\n",
    "    'BS1': A_s,\n",
    "    'BS2': B_s,\n",
    "    'DD1': C_s,\n",
    "    'DD2': D_s\n",
    "})\n",
    "dfex"
   ]
  },
  {
   "cell_type": "code",
   "execution_count": 5,
   "id": "bca2de01",
   "metadata": {},
   "outputs": [],
   "source": [
    "A_ori = np.array([1, 1, 1, 2, 2, 2, 2, 2, 2, 3, 3, 3, 3, 3, 3, 4, 4, 4, 4])\n",
    "B_ori = np.array([1, 1, 2, 2, 2, 2, 3, 3, 3, 3, 4, 4, 4, 4, 4, 4, 4])\n",
    "C_ori = np.array([1, 1, 1, 1, 1, 1, 1, 2, 2, 2, 2, 2, 2, 2, 3, 3, 3, 3, 3, 3, 3, 3])\n",
    "D_ori = np.array([1, 1, 2, 2, 2, 2, 3, 3, 3, 3, 3, 4, 4, 4, 4, 4, 4, 4, 4, 4, 4, 4])\n",
    "popu_size = 50 #number of selections (each citizen is a selection)\n",
    "cross_change = 5 #change {n} bad points \n",
    "mutate_num = 3\n",
    "days_num = 31   #solve selection of 31 days\n",
    "\n",
    "num_iter = 100\n",
    "expect_score = 90\n",
    "\n",
    "eliminate_rate = 0.3           \n",
    " ## how the population will grow after selection. For now it will be growing to the original popu num (0.3 is in respect to orgininal number)\n",
    "crossover_rate = eliminate_rate   \n",
    "\n",
    "columns = ['BS1', 'BS2', 'DD1', 'DD2']"
   ]
  },
  {
   "cell_type": "code",
   "execution_count": 146,
   "id": "278b27ce",
   "metadata": {},
   "outputs": [],
   "source": [
    "# does np.random.shuffle give completely random shuffling? Or are there any elements repetitive?\n",
    "\n",
    "def fitness(selection):\n",
    "    A_s = selection['BS1']\n",
    "    B_s = selection['BS2']\n",
    "    C_s = selection['DD1']\n",
    "    D_s = selection['DD2']\n",
    "    score = 0\n",
    "    lA = len(A_s)\n",
    "    lB = len(B_s)\n",
    "    lC = len(C_s)\n",
    "    lD = len(D_s)\n",
    "    lmin = min(lA, lB, lC, lD)\n",
    "    for i in range(days_num):\n",
    "        if i >= lmin:\n",
    "            score += row_score(A_s[i % lA], B_s[i % lB], C_s[i % lC], D_s[i % lD])\n",
    "        else: \n",
    "            score += row_score(A_s[i], B_s[i], C_s[i], D_s[i])\n",
    "    return score\n",
    "\n",
    "def row_score(a, b, c, d):\n",
    "    thisset = {a, b, c, d}\n",
    "    return len(thisset)\n",
    "\n",
    "# find a row with score less than 4:\n",
    "## best_row_score default to be 4 in this problem\n",
    "## temp_score as return value --- only for testing now. DELETE soon\n",
    "def row_low_score(selection, best_row_score=4):\n",
    "    A_s = selection['BS1']\n",
    "    B_s = selection['BS2']\n",
    "    C_s = selection['DD1']\n",
    "    D_s = selection['DD2']\n",
    "    lA = len(A_s)\n",
    "    lB = len(B_s)\n",
    "    lC = len(C_s)\n",
    "    lD = len(D_s)\n",
    "    \n",
    "    iteration = 0 ##to ensure that this does not run forever\n",
    "    \n",
    "    while (iteration <= days_num * 2):\n",
    "        index = random.randint(0, days_num)\n",
    "        temp_score = row_score(A_s[index % lA], B_s[index % lB], C_s[index % lC], D_s[index % lD])\n",
    "        if temp_score < best_row_score:\n",
    "            return index   #temp_score only for testing now\n",
    "        iteration = iteration + 1\n",
    "    \n",
    "    #in case not found any row with low score\n",
    "    return 0\n",
    "\n",
    "def rand_column_name():\n",
    "    rand_key = random.randint(0, len(columns) - 1)\n",
    "    return columns[rand_key]\n",
    "\n",
    "def rand_column_index(column):\n",
    "    rand_id = random.randint(0, len(column) - 1)\n",
    "    return rand_id\n",
    "\n",
    "# a column, i.e. BS1 or BS2 or DD1 or DD2\n",
    "def gen_column(a1=1, a2=1, a3=1, a4=1):\n",
    "    # A = [1] * 3 + [2] * 6 + [3] * 6 + [4] * 4\n",
    "    col = np.array([1] * a1 + [2] * a2 + [3] * a3 + [4] * a4)\n",
    "    np.random.shuffle(col)\n",
    "    return col\n",
    "\n",
    "def gen_selection():\n",
    "    select = {}\n",
    "    #numbers are hard-coded here (because of this specific problem). Change here if needed.\n",
    "    select['BS1'] = gen_column(3, 6, 6, 4)\n",
    "    select['BS2'] = gen_column(2, 4, 4, 7)\n",
    "    select['DD1'] = gen_column(7, 7, 8, 0)\n",
    "    select['DD2'] = gen_column(2, 4, 5, 11)\n",
    "    return select\n",
    "\n",
    "# for each selection, keep info of just A, B, C, D (raw - NOT A_s, B_s, C_s, D_s -> )\n",
    "def gen_population(popu_size=10):\n",
    "    popu = []\n",
    "    \n",
    "    for i in range(popu_size):\n",
    "        popu = popu + [gen_selection()]\n",
    "    \n",
    "    return popu\n",
    "\n",
    "def population_fitness(popu):\n",
    "    return list(map(lambda sel: fitness(sel), popu))\n",
    "\n",
    "def mean_fitness(popu):\n",
    "    return sum(population_fitness(popu)) / len(popu)\n",
    "\n",
    "def best_fitness(popu):\n",
    "    return max(population_fitness(popu))\n",
    "\n",
    "# eliminate 30% ({eliminate_rate}) worst-performing selections\n",
    "def selection(popu, eliminate_rate=0.1):\n",
    "    indices_eli = list(worst_indices(population_fitness(popu), eliminate_rate))\n",
    "    indices_eli.sort(reverse=True)\n",
    "    \n",
    "    for i in range(len(indices_eli)):\n",
    "        popu.pop(indices_eli[i])\n",
    "\n",
    "# worst selections for eliminating(by index)\n",
    "def worst_indices(lst_fitness, eliminate_rate=0.1):\n",
    "    lst_sorted = np.argsort(lst_fitness)\n",
    "    eliminate_num = int(len(lst_fitness) * eliminate_rate)\n",
    "    return lst_sorted[:eliminate_num]\n",
    "\n",
    "#######################\n",
    "######DONE crossover!\n",
    "\n",
    "#how to crossover? last elements are repeated elements -> very tricky\n",
    "#how to ensure crossover will increase (NOT decrease)\n",
    "# CROSSOVER method: change {n} bad points of a selection\n",
    "# but that way: selections not learning from each other (but maybe no problem. )\n",
    "# crossover_rate: ratio that the popuation row back. For now use `origin_population` for simplicity\n",
    "def crossover(popu, origin_population=50, bound_iter=4000):\n",
    "    iteration = 0   # to ensure that don't run forever in case cannot find anything else\n",
    "    while (len(popu) < origin_population and iteration <= bound_iter):   #should have used crossover_rate, but use popu_size for now (for simplicity)\n",
    "        rand_sel_id = random.randint(0, len(popu) - 1)\n",
    "        new_sel = indi_breeding(popu[rand_sel_id])\n",
    "        if not (new_sel is None):\n",
    "            popu.append(new_sel)\n",
    "            iteration = 0\n",
    "        else:\n",
    "            iteration = iteration + 1\n",
    "            \n",
    "\n",
    "#indi_breeding: choose 'not good' row i -> randomly pick a column j -> swap_cell for (i, j) and (i', j), with i' picked randomly (if this i' not work -> pick another i')\n",
    "## if swap_cell makes score increase -> approve; if not disapprove\n",
    "## indi_breeding run repeatedly until approving\n",
    "#breeding_strength is how much a selection changes during breeding #for now just use default = 1\n",
    "def indi_breeding(sel, breeding_strength=1):\n",
    "    bad_row = row_low_score(sel)    #ignoring case `bad_row = 0` for ease of coding\n",
    "    col_rand = rand_column_name()     \n",
    "    bad_row = bad_row % len(sel[col_rand]) # bad_row can be greater than 22, so need modulo-divide first\n",
    "    iteration = 0  #iteration makes thing haunt when there is no expected answer (probabilistically)\n",
    "    while (iteration <= len(sel[col_rand])):   \n",
    "        id_rand = rand_column_index(sel[col_rand])\n",
    "        if sel[col_rand][id_rand] != sel[col_rand][bad_row]:\n",
    "            new_col = swap_cell(sel[col_rand], bad_row, id_rand)\n",
    "            new_sel = sel.copy()\n",
    "            new_sel[col_rand] = new_col\n",
    "            #implement condition: STRICTLY GREATER than old selection\n",
    "            if fitness(new_sel) > fitness(sel):\n",
    "                return new_sel    \n",
    "        iteration = iteration + 1\n",
    "    #in case can not change anything to increase score\n",
    "    return None\n",
    "\n",
    "\n",
    "# a cell is a position in a column\n",
    "def swap_cell(column_origin, index_from=0, index_to=0):\n",
    "    column = column_origin.copy()\n",
    "    temp = column[index_to]\n",
    "    column[index_to] = column[index_from]\n",
    "    column[index_from] = temp\n",
    "    return column\n",
    "\n",
    "def swap_cell_origin(column_origin, index_from=0, index_to=0):\n",
    "    temp = column_origin[index_to]\n",
    "    column_origin[index_to] = column_origin[index_from]\n",
    "    column_origin[index_from] = temp\n",
    "    return column_origin\n",
    "\n",
    "#################################\n",
    "####### CONTINUE: mutating \n",
    "\n",
    "# mutate_rate means how many selections get mutated\n",
    "def mutate(popu, mutate_rate=0.1, mutate_strength=0.1):\n",
    "    num_mutate = int(len(popu) * mutate_rate)\n",
    "    count = 0\n",
    "    \n",
    "    while (count < num_mutate):\n",
    "        rand_sel_id = random.randint(0, len(popu) - 1)\n",
    "        indi_mutate(popu[rand_sel_id], mutate_strength)    #second param for indi_mutate is hardcoded - change here if needed\n",
    "        count += 1\n",
    "        \n",
    "# mutate_strength means how many pairs get swaped in a selection\n",
    "def indi_mutate(sel, mutate_strength=0.1):\n",
    "    num_swap = int( sum(list(map(lambda k: len(sel[k]), sel))) * mutate_strength )\n",
    "    count = 0\n",
    "    \n",
    "    while (count < num_swap):\n",
    "        col_rand = rand_column_name()     \n",
    "        id1_rand = rand_column_index(sel[col_rand])\n",
    "        id2_rand = id1_rand\n",
    "        while (sel[col_rand][id1_rand] == sel[col_rand][id2_rand]):\n",
    "            id2_rand = rand_column_index(sel[col_rand])\n",
    "        \n",
    "        swap_cell_origin(sel[col_rand], id1_rand, id2_rand)\n",
    "        count += 1        \n",
    "\n",
    "########################################\n",
    "# done selection and crossover. Testing with them\n",
    "# run genetic algorithm\n",
    "def run_GA(popu_size=50, eliminate_rate=0.3, bound_iter=4000, mutate_rate=0.3, mutate_strength=0.1, aim=100):\n",
    "    popu = gen_population(popu_size)\n",
    "    prev_score = 0\n",
    "    score = 1\n",
    "    count = 0 #for testing\n",
    "    while (best_fitness(popu) < aim):\n",
    "        selection(popu, eliminate_rate)\n",
    "#         prev_score = mean_fitness(popu)\n",
    "        crossover(popu, popu_size, bound_iter)\n",
    "#         score = mean_fitness(popu)\n",
    "        mutate(popu, mutate_rate, mutate_strength)   # 2nd param is hardcoded - temporarily for case popu_size=10\n",
    "        count += 1\n",
    "    return (popu,count)"
   ]
  },
  {
   "cell_type": "code",
   "execution_count": 148,
   "id": "c4b3be98",
   "metadata": {
    "scrolled": true
   },
   "outputs": [
    {
     "data": {
      "text/plain": [
       "[113,\n",
       " 113,\n",
       " 113,\n",
       " 113,\n",
       " 113,\n",
       " 113,\n",
       " 114,\n",
       " 113,\n",
       " 114,\n",
       " 114,\n",
       " 113,\n",
       " 113,\n",
       " 114,\n",
       " 114,\n",
       " 113,\n",
       " 114,\n",
       " 113,\n",
       " 114,\n",
       " 114,\n",
       " 114,\n",
       " 113,\n",
       " 114,\n",
       " 113,\n",
       " 114,\n",
       " 113,\n",
       " 113,\n",
       " 114,\n",
       " 114,\n",
       " 113,\n",
       " 113,\n",
       " 114,\n",
       " 113,\n",
       " 114,\n",
       " 113,\n",
       " 114,\n",
       " 114,\n",
       " 114,\n",
       " 114,\n",
       " 114,\n",
       " 114,\n",
       " 115,\n",
       " 114,\n",
       " 114,\n",
       " 114,\n",
       " 114,\n",
       " 114,\n",
       " 114,\n",
       " 114,\n",
       " 114,\n",
       " 114]"
      ]
     },
     "execution_count": 148,
     "metadata": {},
     "output_type": "execute_result"
    }
   ],
   "source": [
    "ans, count = run_GA(popu_size=50, eliminate_rate=0.3, bound_iter=4000, mutate_rate=0, mutate_strength=0, aim=115)\n",
    "population_fitness(ans)"
   ]
  },
  {
   "cell_type": "code",
   "execution_count": 149,
   "id": "061856e8",
   "metadata": {},
   "outputs": [
    {
     "data": {
      "text/plain": [
       "29"
      ]
     },
     "execution_count": 149,
     "metadata": {},
     "output_type": "execute_result"
    }
   ],
   "source": [
    "count"
   ]
  },
  {
   "cell_type": "code",
   "execution_count": 95,
   "id": "de40a36a",
   "metadata": {},
   "outputs": [
    {
     "data": {
      "text/plain": [
       "0.3"
      ]
     },
     "execution_count": 95,
     "metadata": {},
     "output_type": "execute_result"
    }
   ],
   "source": [
    "eliminate_rate"
   ]
  },
  {
   "cell_type": "code",
   "execution_count": null,
   "id": "263ea97e",
   "metadata": {},
   "outputs": [],
   "source": [
    "sum(population_fitness(ans)) / len(ans)"
   ]
  },
  {
   "cell_type": "code",
   "execution_count": null,
   "id": "19179d5b",
   "metadata": {},
   "outputs": [],
   "source": [
    "population_fitness(ans)"
   ]
  },
  {
   "cell_type": "code",
   "execution_count": 34,
   "id": "f2dcedfe",
   "metadata": {},
   "outputs": [
    {
     "data": {
      "text/plain": [
       "89.7"
      ]
     },
     "execution_count": 34,
     "metadata": {},
     "output_type": "execute_result"
    }
   ],
   "source": [
    "mean_fitness(ans)"
   ]
  },
  {
   "cell_type": "code",
   "execution_count": 18,
   "id": "439e7295",
   "metadata": {},
   "outputs": [
    {
     "data": {
      "text/plain": [
       "{'BS1': array([3, 2, 2, 4, 3, 3, 2, 3, 1, 4, 1, 4, 2, 2, 2, 3, 3, 1, 4]),\n",
       " 'BS2': array([4, 4, 4, 2, 1, 4, 4, 4, 3, 3, 4, 2, 2, 2, 3, 3, 1]),\n",
       " 'DD1': array([3, 2, 3, 3, 1, 2, 2, 3, 2, 2, 1, 3, 1, 2, 1, 3, 1, 3, 1, 3, 1, 2]),\n",
       " 'DD2': array([4, 3, 4, 4, 4, 2, 3, 1, 4, 2, 3, 3, 4, 4, 2, 4, 3, 1, 4, 4, 4, 2])}"
      ]
     },
     "execution_count": 18,
     "metadata": {},
     "output_type": "execute_result"
    }
   ],
   "source": [
    "indi_mutate(popu_ex[0], 0.026)\n",
    "popu_ex[0]"
   ]
  },
  {
   "cell_type": "code",
   "execution_count": 64,
   "id": "9408fe7f",
   "metadata": {},
   "outputs": [
    {
     "data": {
      "text/plain": [
       "[{'BS1': array([3, 2, 1, 3, 2, 4, 4, 2, 4, 3, 2, 4, 1, 3, 1, 2, 3, 3, 2]),\n",
       "  'BS2': array([3, 4, 4, 4, 4, 3, 4, 1, 2, 2, 3, 1, 4, 2, 4, 3, 2]),\n",
       "  'DD1': array([3, 3, 3, 1, 3, 2, 2, 2, 1, 2, 2, 1, 1, 3, 3, 2, 3, 1, 1, 1, 3, 2]),\n",
       "  'DD2': array([4, 4, 1, 4, 3, 2, 4, 2, 4, 3, 4, 2, 3, 3, 4, 4, 3, 2, 4, 4, 4, 1])},\n",
       " {'BS1': array([2, 2, 3, 3, 1, 3, 3, 4, 2, 2, 1, 2, 4, 3, 3, 2, 1, 4, 4]),\n",
       "  'BS2': array([3, 2, 3, 2, 3, 4, 4, 2, 2, 4, 4, 1, 4, 1, 4, 3, 4]),\n",
       "  'DD1': array([1, 3, 3, 2, 3, 3, 1, 1, 3, 3, 2, 1, 1, 2, 3, 2, 1, 2, 3, 2, 2, 1]),\n",
       "  'DD2': array([4, 1, 4, 4, 2, 3, 4, 3, 2, 4, 2, 3, 3, 4, 2, 4, 3, 4, 1, 4, 4, 4])},\n",
       " {'BS1': array([2, 2, 4, 2, 3, 1, 1, 2, 3, 2, 3, 3, 4, 4, 3, 1, 2, 3, 4]),\n",
       "  'BS2': array([4, 3, 3, 4, 4, 3, 2, 4, 3, 2, 2, 1, 4, 1, 4, 4, 2]),\n",
       "  'DD1': array([1, 2, 1, 1, 3, 2, 1, 2, 1, 1, 1, 3, 2, 3, 2, 2, 3, 3, 3, 2, 3, 3]),\n",
       "  'DD2': array([4, 4, 3, 4, 3, 2, 3, 4, 4, 3, 4, 2, 4, 4, 1, 4, 4, 2, 3, 2, 1, 4])},\n",
       " {'BS1': array([1, 3, 2, 3, 2, 4, 3, 4, 1, 2, 2, 2, 2, 4, 3, 4, 1, 3, 3]),\n",
       "  'BS2': array([4, 4, 3, 2, 4, 4, 3, 4, 4, 2, 1, 1, 3, 4, 2, 2, 3]),\n",
       "  'DD1': array([2, 2, 3, 2, 2, 1, 1, 3, 3, 1, 3, 1, 3, 2, 2, 2, 1, 1, 3, 1, 3, 3]),\n",
       "  'DD2': array([4, 3, 4, 1, 1, 4, 4, 4, 4, 4, 4, 3, 2, 2, 2, 3, 3, 3, 4, 2, 4, 4])},\n",
       " {'BS1': array([4, 2, 3, 2, 3, 2, 3, 1, 3, 3, 1, 4, 3, 1, 2, 4, 2, 2, 4]),\n",
       "  'BS2': array([2, 3, 2, 3, 4, 3, 4, 4, 3, 2, 1, 4, 4, 4, 1, 2, 4]),\n",
       "  'DD1': array([2, 2, 3, 3, 3, 2, 1, 2, 2, 1, 1, 3, 1, 3, 1, 1, 2, 1, 2, 3, 3, 3]),\n",
       "  'DD2': array([1, 4, 4, 3, 3, 4, 4, 4, 4, 4, 4, 2, 4, 4, 3, 4, 2, 2, 2, 3, 3, 1])},\n",
       " {'BS1': array([2, 3, 2, 2, 3, 3, 1, 4, 2, 2, 4, 3, 4, 3, 2, 1, 4, 3, 1]),\n",
       "  'BS2': array([4, 4, 2, 2, 4, 2, 4, 1, 3, 4, 4, 2, 3, 3, 4, 1, 3]),\n",
       "  'DD1': array([1, 3, 2, 2, 3, 1, 3, 2, 2, 3, 2, 3, 2, 1, 1, 1, 1, 3, 3, 1, 3, 2]),\n",
       "  'DD2': array([4, 3, 4, 4, 4, 3, 4, 4, 3, 3, 4, 2, 4, 2, 4, 1, 2, 1, 2, 3, 4, 4])},\n",
       " {'BS1': array([2, 2, 4, 4, 4, 3, 2, 3, 1, 2, 2, 4, 3, 3, 1, 3, 1, 3, 2]),\n",
       "  'BS2': array([3, 2, 1, 4, 2, 4, 2, 3, 4, 3, 3, 4, 1, 4, 4, 4, 2]),\n",
       "  'DD1': array([1, 2, 2, 1, 3, 1, 3, 1, 3, 3, 3, 1, 2, 2, 1, 2, 3, 2, 3, 2, 3, 1]),\n",
       "  'DD2': array([3, 4, 4, 4, 3, 3, 4, 4, 4, 1, 3, 4, 4, 2, 4, 2, 4, 4, 1, 2, 3, 2])},\n",
       " {'BS1': array([4, 2, 2, 3, 2, 3, 2, 2, 3, 1, 1, 3, 2, 4, 4, 3, 4, 3, 1]),\n",
       "  'BS2': array([4, 3, 3, 4, 2, 1, 2, 4, 4, 1, 4, 2, 3, 4, 4, 2, 3]),\n",
       "  'DD1': array([3, 3, 3, 1, 1, 1, 2, 1, 3, 2, 3, 2, 1, 2, 1, 3, 1, 2, 3, 2, 2, 3]),\n",
       "  'DD2': array([4, 4, 4, 4, 1, 3, 1, 4, 3, 3, 2, 3, 4, 4, 2, 2, 4, 4, 4, 2, 3, 4])},\n",
       " {'BS1': array([3, 4, 3, 3, 3, 2, 2, 4, 4, 2, 4, 1, 2, 1, 2, 2, 3, 3, 1]),\n",
       "  'BS2': array([2, 3, 4, 4, 4, 4, 2, 4, 3, 4, 4, 3, 3, 2, 1, 2, 1]),\n",
       "  'DD1': array([1, 2, 2, 3, 3, 2, 2, 3, 2, 1, 1, 1, 3, 3, 2, 1, 3, 3, 1, 2, 3, 1]),\n",
       "  'DD2': array([4, 3, 4, 2, 3, 4, 4, 4, 2, 3, 3, 2, 4, 4, 4, 4, 1, 4, 2, 1, 4, 3])},\n",
       " {'BS1': array([2, 2, 4, 3, 1, 4, 2, 3, 3, 3, 3, 2, 1, 4, 3, 4, 2, 1, 2]),\n",
       "  'BS2': array([4, 4, 2, 1, 1, 3, 3, 2, 4, 3, 2, 3, 4, 4, 4, 2, 4]),\n",
       "  'DD1': array([2, 2, 1, 3, 2, 1, 2, 2, 1, 3, 1, 2, 3, 3, 1, 3, 2, 3, 1, 3, 3, 1]),\n",
       "  'DD2': array([4, 3, 2, 2, 4, 2, 3, 4, 4, 2, 3, 4, 4, 4, 1, 3, 1, 4, 4, 4, 3, 4])}]"
      ]
     },
     "execution_count": 64,
     "metadata": {},
     "output_type": "execute_result"
    }
   ],
   "source": [
    "popu_ex = gen_population(10)\n",
    "popu_ex"
   ]
  },
  {
   "cell_type": "code",
   "execution_count": 65,
   "id": "9030024e",
   "metadata": {},
   "outputs": [
    {
     "data": {
      "text/plain": [
       "[85, 93, 89, 85, 86, 85, 84, 83, 84, 88]"
      ]
     },
     "execution_count": 65,
     "metadata": {},
     "output_type": "execute_result"
    }
   ],
   "source": [
    "population_fitness(popu_ex)"
   ]
  },
  {
   "cell_type": "code",
   "execution_count": 29,
   "id": "c2c244e1",
   "metadata": {},
   "outputs": [
    {
     "data": {
      "text/plain": [
       "91"
      ]
     },
     "execution_count": 29,
     "metadata": {},
     "output_type": "execute_result"
    }
   ],
   "source": [
    "best_fitness(popu_ex)"
   ]
  },
  {
   "cell_type": "code",
   "execution_count": 66,
   "id": "c0ec54b7",
   "metadata": {},
   "outputs": [
    {
     "data": {
      "text/plain": [
       "86.2"
      ]
     },
     "execution_count": 66,
     "metadata": {},
     "output_type": "execute_result"
    }
   ],
   "source": [
    "sum(population_fitness(popu_ex)) / 10"
   ]
  },
  {
   "cell_type": "code",
   "execution_count": 91,
   "id": "9b8fd401",
   "metadata": {},
   "outputs": [
    {
     "data": {
      "text/plain": [
       "100.42857142857143"
      ]
     },
     "execution_count": 91,
     "metadata": {},
     "output_type": "execute_result"
    }
   ],
   "source": [
    "selection(popu_ex, eliminate_rate)\n",
    "# sum(population_fitness(popu_ex)) / 7\n",
    "mean_fitness(popu_ex)"
   ]
  },
  {
   "cell_type": "code",
   "execution_count": 92,
   "id": "e6b0f388",
   "metadata": {},
   "outputs": [
    {
     "data": {
      "text/plain": [
       "100.8"
      ]
     },
     "execution_count": 92,
     "metadata": {},
     "output_type": "execute_result"
    }
   ],
   "source": [
    "# def crossover(popu, crossover_rate=0.1):\n",
    "crossover(popu_ex, 10)\n",
    "# sum(population_fitness(popu_ex)) / 10\n",
    "mean_fitness(popu_ex)"
   ]
  },
  {
   "cell_type": "code",
   "execution_count": null,
   "id": "9b148232",
   "metadata": {},
   "outputs": [],
   "source": []
  },
  {
   "cell_type": "code",
   "execution_count": null,
   "id": "46112b6b",
   "metadata": {},
   "outputs": [],
   "source": [
    "population_fitness(popu_ex)"
   ]
  },
  {
   "cell_type": "code",
   "execution_count": 21,
   "id": "b1f126de",
   "metadata": {},
   "outputs": [
    {
     "data": {
      "text/plain": [
       "[{'BS1': array([3, 2, 1, 4, 3, 3, 3, 4, 3, 1, 3, 4, 2, 2, 4, 1, 2, 2, 2]),\n",
       "  'BS2': array([3, 4, 4, 2, 1, 4, 2, 2, 2, 3, 3, 3, 4, 4, 1, 4, 4]),\n",
       "  'DD1': array([1, 3, 2, 3, 2, 2, 1, 2, 1, 1, 1, 3, 2, 3, 1, 3, 3, 3, 1, 3, 2, 2]),\n",
       "  'DD2': array([2, 4, 4, 3, 3, 2, 4, 4, 4, 4, 1, 4, 4, 3, 3, 4, 4, 3, 1, 2, 4, 2])},\n",
       " {'BS1': array([3, 2, 3, 3, 2, 1, 2, 1, 4, 2, 2, 4, 2, 4, 3, 3, 3, 1, 4]),\n",
       "  'BS2': array([3, 3, 1, 1, 4, 2, 3, 4, 4, 4, 3, 4, 2, 2, 2, 4, 4]),\n",
       "  'DD1': array([1, 2, 3, 1, 2, 1, 3, 2, 2, 3, 2, 1, 2, 3, 3, 3, 2, 1, 1, 3, 1, 3]),\n",
       "  'DD2': array([3, 2, 3, 4, 3, 4, 4, 4, 1, 2, 4, 4, 3, 2, 3, 4, 4, 4, 4, 4, 2, 1])}]"
      ]
     },
     "execution_count": 21,
     "metadata": {},
     "output_type": "execute_result"
    }
   ],
   "source": [
    "popu_ex_small = gen_population(2)\n",
    "popu_ex_small"
   ]
  },
  {
   "cell_type": "code",
   "execution_count": 23,
   "id": "0c1a094a",
   "metadata": {},
   "outputs": [],
   "source": [
    "mutate(popu_ex_small, 0.5)"
   ]
  },
  {
   "cell_type": "code",
   "execution_count": 24,
   "id": "4fb690b6",
   "metadata": {},
   "outputs": [
    {
     "data": {
      "text/plain": [
       "[{'BS1': array([3, 2, 1, 4, 3, 3, 3, 4, 2, 1, 3, 4, 2, 2, 4, 1, 2, 2, 3]),\n",
       "  'BS2': array([3, 4, 4, 2, 1, 4, 2, 2, 2, 3, 3, 3, 4, 4, 1, 4, 4]),\n",
       "  'DD1': array([1, 3, 2, 3, 2, 2, 1, 2, 1, 1, 1, 3, 2, 3, 1, 3, 3, 3, 1, 3, 2, 2]),\n",
       "  'DD2': array([2, 4, 4, 3, 3, 4, 4, 4, 4, 4, 1, 2, 4, 3, 3, 4, 4, 3, 1, 2, 4, 2])},\n",
       " {'BS1': array([3, 2, 3, 3, 2, 1, 2, 1, 4, 2, 2, 4, 2, 4, 3, 3, 3, 1, 4]),\n",
       "  'BS2': array([3, 3, 1, 1, 4, 2, 3, 4, 4, 4, 3, 4, 2, 2, 2, 4, 4]),\n",
       "  'DD1': array([1, 2, 3, 1, 2, 1, 3, 2, 2, 3, 2, 1, 2, 3, 3, 3, 2, 1, 1, 3, 1, 3]),\n",
       "  'DD2': array([3, 2, 3, 4, 3, 4, 4, 4, 1, 2, 4, 4, 3, 2, 3, 4, 4, 4, 4, 4, 2, 1])}]"
      ]
     },
     "execution_count": 24,
     "metadata": {},
     "output_type": "execute_result"
    }
   ],
   "source": [
    "popu_ex_small"
   ]
  },
  {
   "cell_type": "code",
   "execution_count": 25,
   "id": "7d357464",
   "metadata": {},
   "outputs": [
    {
     "data": {
      "text/plain": [
       "[{'BS1': array([3, 2, 1, 4, 3, 3, 3, 4, 2, 1, 3, 4, 2, 2, 4, 1, 2, 2, 3]),\n",
       "  'BS2': array([3, 4, 3, 2, 1, 4, 2, 2, 2, 3, 3, 4, 4, 4, 1, 4, 4]),\n",
       "  'DD1': array([1, 3, 2, 2, 3, 2, 1, 2, 1, 1, 1, 3, 2, 3, 1, 3, 3, 3, 1, 3, 2, 2]),\n",
       "  'DD2': array([2, 4, 4, 3, 3, 4, 4, 4, 4, 4, 1, 2, 4, 3, 3, 4, 4, 3, 1, 2, 4, 2])},\n",
       " {'BS1': array([3, 2, 2, 3, 2, 1, 2, 1, 4, 2, 3, 4, 2, 4, 3, 3, 3, 1, 4]),\n",
       "  'BS2': array([3, 3, 1, 1, 4, 2, 3, 4, 4, 4, 3, 4, 2, 2, 2, 4, 4]),\n",
       "  'DD1': array([1, 2, 3, 1, 2, 1, 3, 2, 2, 3, 2, 1, 2, 3, 3, 3, 2, 1, 1, 3, 1, 3]),\n",
       "  'DD2': array([3, 3, 3, 4, 2, 4, 4, 4, 1, 2, 4, 4, 3, 2, 3, 4, 4, 4, 4, 4, 2, 1])}]"
      ]
     },
     "execution_count": 25,
     "metadata": {},
     "output_type": "execute_result"
    }
   ],
   "source": [
    "mutate(popu_ex_small, 1)\n",
    "popu_ex_small"
   ]
  }
 ],
 "metadata": {
  "kernelspec": {
   "display_name": "Python 3",
   "language": "python",
   "name": "python3"
  },
  "language_info": {
   "codemirror_mode": {
    "name": "ipython",
    "version": 3
   },
   "file_extension": ".py",
   "mimetype": "text/x-python",
   "name": "python",
   "nbconvert_exporter": "python",
   "pygments_lexer": "ipython3",
   "version": "3.9.1"
  }
 },
 "nbformat": 4,
 "nbformat_minor": 5
}
